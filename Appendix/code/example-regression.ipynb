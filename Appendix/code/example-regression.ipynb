{
 "cells": [
  {
   "cell_type": "code",
   "execution_count": null,
   "metadata": {},
   "outputs": [],
   "source": [
    "# Imports\n",
    "import pandas as pd\n",
    "import numpy as np\n",
    "from sklearn.impute import SimpleImputer\n",
    "from datetime import datetime\n",
    "from datetime import timedelta\n",
    "from sklearn.preprocessing import StandardScaler\n",
    "pd.options.mode.chained_assignment = None\n",
    "\n",
    "# Get raw data\n",
    "raw_song_data = pd.read_csv('../data/songs.csv')\n",
    "\n",
    "# Check data types\n",
    "raw_song_data.info()"
   ]
  },
  {
   "cell_type": "code",
   "execution_count": null,
   "metadata": {},
   "outputs": [],
   "source": [
    "# Clean the data\n",
    "\n",
    "# Remove rows and columns with less than 50% values\n",
    "essential_song_data = raw_song_data.copy()\n",
    "\n",
    "# Remove columns with less than 50% of values\n",
    "remove_cols = []\n",
    "for i in range(len(essential_song_data.columns)):\n",
    "    if (essential_song_data[essential_song_data.columns[i]].isna().sum() >= len(essential_song_data)/2):\n",
    "        remove_cols.append(essential_song_data.columns[i])\n",
    "essential_song_data = essential_song_data.drop(columns=remove_cols)\n",
    "\n",
    "# Remove rows with less than 50% of values\n",
    "remove_rows = []\n",
    "for i in range(len(essential_song_data)):\n",
    "    if (essential_song_data.iloc[i].isna().sum() >= len(essential_song_data.columns)/2):\n",
    "        remove_rows.append(i)\n",
    "essential_song_data = essential_song_data.drop(index=remove_rows)\n",
    "\n",
    "# Fix data hygiene typing issues\n",
    "hygienic_song_data = essential_song_data.copy()\n",
    "\n",
    "# Remove Title, Artist, and Index because it will not be easily passed in ML algorithm\n",
    "hygienic_song_data = hygienic_song_data.drop(columns=['Title', 'Artist', 'Index'])\n",
    "\n",
    "# Convert all month variables into ints\n",
    "month_dict = {'Jan': 1, 'Feb': 2, 'Mar': 3, 'Apr': 4, 'May': 5, 'Jun': 6,\n",
    "    'Jul': 7, 'Aug': 8, 'Sep': 9, 'Oct': 10, 'Nov': 11, 'Dec': 12}\n",
    "hygienic_song_data['Month'] = hygienic_song_data['Month'].replace(month_dict)\n",
    "hygienic_song_data['Month'] = hygienic_song_data['Month'].astype(int)\n",
    "\n",
    "# Remove commas from Length Duration and cast as integer\n",
    "hygienic_song_data['Length (Duration)'][hygienic_song_data['Length (Duration)'].notna()] = hygienic_song_data['Length (Duration)'][hygienic_song_data['Length (Duration)'].notna()].str.replace(',', '')\n",
    "hygienic_song_data['Length (Duration)'][hygienic_song_data['Length (Duration)'].notna()] = hygienic_song_data['Length (Duration)'][hygienic_song_data['Length (Duration)'].notna()].astype(int)\n",
    "\n",
    "# Pass all numeric data through mean imputation\n",
    "imputer_mean = SimpleImputer(missing_values=np.nan, strategy='mean')\n",
    "numeric_data = hygienic_song_data.copy()\n",
    "numeric_data = numeric_data.drop(columns='Top Genre')\n",
    "imputer_mean.fit(numeric_data)\n",
    "numeric_data[:] = imputer_mean.transform(numeric_data)\n",
    "\n",
    "# Add age \n",
    "numeric_data['Year'][numeric_data['Year'] == 92] = 1992\n",
    "numeric_data['Age'] = 0\n",
    "for i in range(len(numeric_data)):\n",
    "    numeric_data['Age'].iloc[i] = (datetime.now() - pd.to_datetime(f'{int(numeric_data[\"Year\"].iloc[i])}-{int(numeric_data[\"Month\"].iloc[i])}-1', yearfirst=True)) / timedelta(days=365)\n",
    "numeric_data = numeric_data.drop(columns=['Year', 'Month'])\n",
    "\n",
    "# Convert to standard z-scores\n",
    "ss = StandardScaler()\n",
    "ss.fit(numeric_data)\n",
    "numeric_data[:] = ss.transform(numeric_data)\n",
    "\n",
    "# Pass all categorical data through mode imputation\n",
    "imputer_mode = SimpleImputer(missing_values=np.nan, strategy='most_frequent')\n",
    "categorical_data = pd.DataFrame(hygienic_song_data['Top Genre'].copy())\n",
    "imputer_mode.fit(categorical_data)\n",
    "categorical_data[:] = imputer_mode.transform(categorical_data)\n",
    "categorical_data = pd.get_dummies(categorical_data, drop_first=True)\n",
    "\n",
    "# Put data back together\n",
    "hygienic_song_data = pd.concat([numeric_data, categorical_data], axis=1)"
   ]
  }
 ],
 "metadata": {
  "kernelspec": {
   "display_name": "Python 3.9.7 64-bit",
   "language": "python",
   "name": "python3"
  },
  "language_info": {
   "name": "python",
   "version": "3.9.7"
  },
  "orig_nbformat": 4,
  "vscode": {
   "interpreter": {
    "hash": "aee8b7b246df8f9039afb4144a1f6fd8d2ca17a180786b69acc140d282b71a49"
   }
  }
 },
 "nbformat": 4,
 "nbformat_minor": 2
}
